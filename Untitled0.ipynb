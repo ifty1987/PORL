{
  "nbformat": 4,
  "nbformat_minor": 0,
  "metadata": {
    "colab": {
      "name": "Untitled0.ipynb",
      "provenance": [],
      "authorship_tag": "ABX9TyMBuN+aOH6JFkjgHIZcTuTz",
      "include_colab_link": true
    },
    "kernelspec": {
      "name": "python3",
      "display_name": "Python 3"
    },
    "language_info": {
      "name": "python"
    }
  },
  "cells": [
    {
      "cell_type": "markdown",
      "metadata": {
        "id": "view-in-github",
        "colab_type": "text"
      },
      "source": [
        "<a href=\"https://colab.research.google.com/github/ifty1987/PORL/blob/master/Untitled0.ipynb\" target=\"_parent\"><img src=\"https://colab.research.google.com/assets/colab-badge.svg\" alt=\"Open In Colab\"/></a>"
      ]
    },
    {
      "cell_type": "code",
      "execution_count": 12,
      "metadata": {
        "colab": {
          "base_uri": "https://localhost:8080/"
        },
        "id": "xnS-_4Te1Qhj",
        "outputId": "db3f8a82-cdb3-4390-cb0b-28e47fd51364"
      },
      "outputs": [
        {
          "output_type": "execute_result",
          "data": {
            "text/plain": [
              "[('220, Sussex_spaniel', 99.72064208984375),\n",
              " ('216, clumber', 0.19630354642868042),\n",
              " ('256, Newfoundland', 0.022576315328478813),\n",
              " ('200, Tibetan_terrier', 0.009690395556390285),\n",
              " ('175, otterhound', 0.005951467901468277)]"
            ]
          },
          "metadata": {},
          "execution_count": 12
        }
      ],
      "source": [
        "from torchvision import models\n",
        "\n",
        "import torch\n",
        " \n",
        "dir(models)\n",
        "from torchvision import transforms\n",
        "\n",
        "transform = transforms.Compose([            #[1]\n",
        "\n",
        " transforms.Resize(256),                    #[2]\n",
        "\n",
        " transforms.CenterCrop(224),                #[3]\n",
        "\n",
        " transforms.ToTensor(),                     #[4]\n",
        "\n",
        " transforms.Normalize(                      #[5]\n",
        "\n",
        " mean=[0.485, 0.456, 0.406],                #[6]\n",
        "\n",
        " std=[0.229, 0.224, 0.225]                  #[7]\n",
        "\n",
        " )])\n",
        "# Import Pillow\n",
        "\n",
        "from PIL import Image\n",
        "\n",
        "img = Image.open(\"dog2.jpg\")\n",
        "img_t = transform(img)\n",
        "\n",
        "batch_t = torch.unsqueeze(img_t, 0)\n",
        "\n",
        "\n",
        "resnet = models.resnet101(pretrained=True)\n",
        "\n",
        " \n",
        "\n",
        "\n",
        "resnet.eval()\n",
        "\n",
        " \n",
        "\n",
        "# Third, carry out model inference\n",
        "\n",
        "out = resnet(batch_t)\n",
        "with open('imagenet_classes.txt') as f:\n",
        "\n",
        "  classes = [line.strip() for line in f.readlines()]\n",
        " \n",
        "\n",
        "# Forth, print the top 5 classes predicted by the model\n",
        "\n",
        "_, indices = torch.sort(out, descending=True)\n",
        "\n",
        "percentage = torch.nn.functional.softmax(out, dim=1)[0] * 100\n",
        "\n",
        "[(classes[idx], percentage[idx].item()) for idx in indices[0][:5]]"
      ]
    }
  ]
}